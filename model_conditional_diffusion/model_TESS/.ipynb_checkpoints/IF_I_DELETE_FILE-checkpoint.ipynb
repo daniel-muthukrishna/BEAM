{
 "cells": [
  {
   "cell_type": "code",
   "execution_count": 4,
   "id": "d7aabf1a-938a-4d49-81d0-ae85549554b7",
   "metadata": {},
   "outputs": [],
   "source": [
    "%history -g -f history_of_saves"
   ]
  },
  {
   "cell_type": "code",
   "execution_count": null,
   "id": "5fff1ffb-8789-4ec4-8cfa-749c89659568",
   "metadata": {},
   "outputs": [],
   "source": []
  },
  {
   "cell_type": "code",
   "execution_count": null,
   "id": "3e5cb9a8-e0ac-47ec-9dbf-06e0718f90c9",
   "metadata": {},
   "outputs": [],
   "source": []
  },
  {
   "cell_type": "code",
   "execution_count": null,
   "id": "2b9dec6c-636b-430f-9d27-33bf516e350c",
   "metadata": {},
   "outputs": [],
   "source": []
  }
 ],
 "metadata": {
  "kernelspec": {
   "display_name": "Python 3 (ipykernel)",
   "language": "python",
   "name": "python3"
  },
  "language_info": {
   "codemirror_mode": {
    "name": "ipython",
    "version": 3
   },
   "file_extension": ".py",
   "mimetype": "text/x-python",
   "name": "python",
   "nbconvert_exporter": "python",
   "pygments_lexer": "ipython3",
   "version": "3.10.12"
  }
 },
 "nbformat": 4,
 "nbformat_minor": 5
}
